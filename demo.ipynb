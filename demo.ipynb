{
 "cells": [
  {
   "cell_type": "code",
   "id": "initial_id",
   "metadata": {
    "collapsed": true,
    "ExecuteTime": {
     "end_time": "2025-06-29T13:16:21.570046Z",
     "start_time": "2025-06-29T13:16:18.894899Z"
    }
   },
   "source": [
    "from util.trainer import FlowMatchingTrainer, NormalizingFlowTrainer\n",
    "from util.config import NormalizingFlowSRConfig, FlowMatchingSRConfig"
   ],
   "outputs": [],
   "execution_count": 3
  },
  {
   "metadata": {},
   "cell_type": "code",
   "source": [
    "nf_config = NormalizingFlowSRConfig(\n",
    "    root_dir = \"data/set14\",\n",
    "    hr_size = 128,\n",
    "    scale_factor = 2,\n",
    "    hr_channels = 3,\n",
    "    lr_channels = 3,\n",
    "    train_split = 0.8,\n",
    "\n",
    "    # Training parameters\n",
    "    batch_size = 8,\n",
    "    num_epochs = 200,\n",
    "    learning_rate = 2e-4,\n",
    "    weight_decay = 1e-4,\n",
    "\n",
    "\n",
    "    # Conditioning Network\n",
    "    cond_net_base_channels = 128,\n",
    "    cond_net_res_block_num =  4,\n",
    "    cond_net_res_weight = 0.1,\n",
    "\n",
    "    # Normalizing Flow parameters\n",
    "    num_flows = 12,\n",
    "    hidden_dim = 256,\n",
    "\n",
    "    # System parameters\n",
    "    num_workers = 2,\n",
    "\n",
    "    # Evaluation and saving parameters\n",
    "    eval_every = 25,\n",
    "    save_every = 50,\n",
    "    num_samples = 5\n",
    ")\n",
    "\n",
    "NormalizingFlowTrainer(nf_config).train()"
   ],
   "id": "9bd8212e238c0040",
   "outputs": [],
   "execution_count": null
  },
  {
   "metadata": {
    "jupyter": {
     "is_executing": true
    },
    "ExecuteTime": {
     "start_time": "2025-06-29T13:16:21.574786Z"
    }
   },
   "cell_type": "code",
   "source": [
    "fm_config = FlowMatchingSRConfig(\n",
    "    eval_every = 20,\n",
    "    save_every = 1000\n",
    ")\n",
    "\n",
    "FlowMatchingTrainer(fm_config).train()"
   ],
   "id": "f2e4b2105c99915e",
   "outputs": [
    {
     "name": "stdout",
     "output_type": "stream",
     "text": [
      "Training on device: cpu\n",
      "Found 14 images in data/set14\n",
      "Found 14 images in data/set14\n",
      "Model parameters: 19.37M\n",
      "Training on 11 images, validating on 3 images\n",
      "Starting training...\n"
     ]
    },
    {
     "name": "stderr",
     "output_type": "stream",
     "text": [
      "Epoch 1/200 [Train]: 100%|██████████| 1/1 [00:07<00:00,  7.95s/it, Loss=1.0422, LR=8.00e-06, Avg=1.0422]\n"
     ]
    },
    {
     "name": "stdout",
     "output_type": "stream",
     "text": [
      "Epoch 1/200 | Train Loss: 1.0422 | Val Loss: 1.0047 | LR: 9.31e-06\n",
      "New best model validation loss = 1.0047\n"
     ]
    },
    {
     "name": "stderr",
     "output_type": "stream",
     "text": [
      "Epoch 2/200 [Train]: 100%|██████████| 1/1 [00:08<00:00,  8.88s/it, Loss=1.0324, LR=9.31e-06, Avg=1.0324]\n"
     ]
    },
    {
     "name": "stdout",
     "output_type": "stream",
     "text": [
      "Epoch 2/200 | Train Loss: 1.0324 | Val Loss: 1.0024 | LR: 1.32e-05\n",
      "New best model validation loss = 1.0024\n"
     ]
    },
    {
     "name": "stderr",
     "output_type": "stream",
     "text": [
      "Epoch 3/200 [Train]: 100%|██████████| 1/1 [00:09<00:00,  9.49s/it, Loss=1.0157, LR=1.32e-05, Avg=1.0157]\n"
     ]
    },
    {
     "name": "stdout",
     "output_type": "stream",
     "text": [
      "Epoch 3/200 | Train Loss: 1.0157 | Val Loss: 1.0065 | LR: 1.96e-05\n"
     ]
    },
    {
     "name": "stderr",
     "output_type": "stream",
     "text": [
      "Epoch 4/200 [Train]: 100%|██████████| 1/1 [00:08<00:00,  8.43s/it, Loss=1.0471, LR=1.96e-05, Avg=1.0471]\n"
     ]
    },
    {
     "name": "stdout",
     "output_type": "stream",
     "text": [
      "Epoch 4/200 | Train Loss: 1.0471 | Val Loss: 0.9986 | LR: 2.82e-05\n",
      "New best model validation loss = 0.9986\n"
     ]
    },
    {
     "name": "stderr",
     "output_type": "stream",
     "text": [
      "Epoch 5/200 [Train]: 100%|██████████| 1/1 [00:08<00:00,  8.38s/it, Loss=1.0426, LR=2.82e-05, Avg=1.0426]\n"
     ]
    },
    {
     "name": "stdout",
     "output_type": "stream",
     "text": [
      "Epoch 5/200 | Train Loss: 1.0426 | Val Loss: 1.0002 | LR: 3.90e-05\n"
     ]
    },
    {
     "name": "stderr",
     "output_type": "stream",
     "text": [
      "Epoch 6/200 [Train]: 100%|██████████| 1/1 [00:08<00:00,  8.89s/it, Loss=1.0357, LR=3.90e-05, Avg=1.0357]\n"
     ]
    },
    {
     "name": "stdout",
     "output_type": "stream",
     "text": [
      "Epoch 6/200 | Train Loss: 1.0357 | Val Loss: 0.9962 | LR: 5.15e-05\n",
      "New best model validation loss = 0.9962\n"
     ]
    },
    {
     "name": "stderr",
     "output_type": "stream",
     "text": [
      "Epoch 7/200 [Train]: 100%|██████████| 1/1 [00:07<00:00,  7.86s/it, Loss=1.0381, LR=5.15e-05, Avg=1.0381]\n"
     ]
    },
    {
     "name": "stdout",
     "output_type": "stream",
     "text": [
      "Epoch 7/200 | Train Loss: 1.0381 | Val Loss: 0.9922 | LR: 6.54e-05\n",
      "New best model validation loss = 0.9922\n"
     ]
    },
    {
     "name": "stderr",
     "output_type": "stream",
     "text": [
      "Epoch 8/200 [Train]: 100%|██████████| 1/1 [00:07<00:00,  7.54s/it, Loss=1.0344, LR=6.54e-05, Avg=1.0344]\n"
     ]
    },
    {
     "name": "stdout",
     "output_type": "stream",
     "text": [
      "Epoch 8/200 | Train Loss: 1.0344 | Val Loss: 0.9869 | LR: 8.04e-05\n",
      "New best model validation loss = 0.9869\n"
     ]
    },
    {
     "name": "stderr",
     "output_type": "stream",
     "text": [
      "Epoch 9/200 [Train]: 100%|██████████| 1/1 [00:09<00:00,  9.21s/it, Loss=1.0271, LR=8.04e-05, Avg=1.0271]\n"
     ]
    },
    {
     "name": "stdout",
     "output_type": "stream",
     "text": [
      "Epoch 9/200 | Train Loss: 1.0271 | Val Loss: 0.9830 | LR: 9.61e-05\n",
      "New best model validation loss = 0.9830\n"
     ]
    },
    {
     "name": "stderr",
     "output_type": "stream",
     "text": [
      "Epoch 10/200 [Train]: 100%|██████████| 1/1 [00:09<00:00,  9.05s/it, Loss=1.0289, LR=9.61e-05, Avg=1.0289]\n"
     ]
    },
    {
     "name": "stdout",
     "output_type": "stream",
     "text": [
      "Epoch 10/200 | Train Loss: 1.0289 | Val Loss: 0.9720 | LR: 1.12e-04\n",
      "New best model validation loss = 0.9720\n"
     ]
    },
    {
     "name": "stderr",
     "output_type": "stream",
     "text": [
      "Epoch 11/200 [Train]: 100%|██████████| 1/1 [00:08<00:00,  8.41s/it, Loss=1.0058, LR=1.12e-04, Avg=1.0058]\n"
     ]
    },
    {
     "name": "stdout",
     "output_type": "stream",
     "text": [
      "Epoch 11/200 | Train Loss: 1.0058 | Val Loss: 0.9660 | LR: 1.28e-04\n",
      "New best model validation loss = 0.9660\n"
     ]
    },
    {
     "name": "stderr",
     "output_type": "stream",
     "text": [
      "Epoch 12/200 [Train]: 100%|██████████| 1/1 [00:07<00:00,  7.72s/it, Loss=0.9915, LR=1.28e-04, Avg=0.9915]\n"
     ]
    },
    {
     "name": "stdout",
     "output_type": "stream",
     "text": [
      "Epoch 12/200 | Train Loss: 0.9915 | Val Loss: 0.9580 | LR: 1.43e-04\n",
      "New best model validation loss = 0.9580\n"
     ]
    },
    {
     "name": "stderr",
     "output_type": "stream",
     "text": [
      "Epoch 13/200 [Train]: 100%|██████████| 1/1 [00:08<00:00,  8.26s/it, Loss=0.9670, LR=1.43e-04, Avg=0.9670]\n"
     ]
    },
    {
     "name": "stdout",
     "output_type": "stream",
     "text": [
      "Epoch 13/200 | Train Loss: 0.9670 | Val Loss: 0.9495 | LR: 1.57e-04\n",
      "New best model validation loss = 0.9495\n"
     ]
    },
    {
     "name": "stderr",
     "output_type": "stream",
     "text": [
      "Epoch 14/200 [Train]: 100%|██████████| 1/1 [00:07<00:00,  7.39s/it, Loss=0.9772, LR=1.57e-04, Avg=0.9772]\n"
     ]
    },
    {
     "name": "stdout",
     "output_type": "stream",
     "text": [
      "Epoch 14/200 | Train Loss: 0.9772 | Val Loss: 0.9358 | LR: 1.69e-04\n",
      "New best model validation loss = 0.9358\n"
     ]
    },
    {
     "name": "stderr",
     "output_type": "stream",
     "text": [
      "Epoch 15/200 [Train]: 100%|██████████| 1/1 [00:07<00:00,  7.55s/it, Loss=0.9548, LR=1.69e-04, Avg=0.9548]\n"
     ]
    },
    {
     "name": "stdout",
     "output_type": "stream",
     "text": [
      "Epoch 15/200 | Train Loss: 0.9548 | Val Loss: 0.9236 | LR: 1.80e-04\n",
      "New best model validation loss = 0.9236\n"
     ]
    },
    {
     "name": "stderr",
     "output_type": "stream",
     "text": [
      "Epoch 16/200 [Train]:   0%|          | 0/1 [00:00<?, ?it/s]"
     ]
    }
   ],
   "execution_count": null
  }
 ],
 "metadata": {
  "kernelspec": {
   "display_name": "Python 3",
   "language": "python",
   "name": "python3"
  },
  "language_info": {
   "codemirror_mode": {
    "name": "ipython",
    "version": 2
   },
   "file_extension": ".py",
   "mimetype": "text/x-python",
   "name": "python",
   "nbconvert_exporter": "python",
   "pygments_lexer": "ipython2",
   "version": "2.7.6"
  }
 },
 "nbformat": 4,
 "nbformat_minor": 5
}
